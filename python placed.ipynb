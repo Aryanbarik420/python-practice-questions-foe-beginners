{
 "cells": [
  {
   "cell_type": "markdown",
   "id": "03c5141f",
   "metadata": {},
   "source": [
    "###### Problem Statements for practice:\n",
    "Q1. Given two integer variables a and b, and a boolean variable flag. The task is\n",
    "to check the status and return accordingly.\n",
    "Return True for the following cases:\n",
    " Either a or b (not both) is non-negative and the flag is false.\n",
    " Both a and b are negative and the flag is true.\n",
    "Otherwise, return false.\n",
    "Example: \n",
    "Input:\n",
    "a = 1\n",
    "b = -1\n",
    "flag = False\n",
    "Output:\n",
    "True\n",
    "Explanation:\n",
    "Since a and b are positive and\n",
    "negative respectively and flag\n",
    "is False, so return True.\n",
    "Example: \n",
    "Input:\n",
    "a = -182\n",
    "b = -9121\n",
    "flag = True\n",
    "Output:\n",
    "True\n",
    "Explanation:Since a and b are negative and negative respectively and flag is\n",
    "True, so return True.\n",
    "Your Task:\n",
    "This is a function problem. Complete the function checkStatus() and\n",
    "return True or False according to the parameters."
   ]
  },
  {
   "cell_type": "code",
   "execution_count": null,
   "id": "0fb366fe",
   "metadata": {},
   "outputs": [],
   "source": [
    "def checkStatus(a,b,flag):\n",
    "    if flag=False and ((a>=0 or b<0) or (a<0 or b>=0)):\n",
    "        return True\n",
    "    if flag=True and (a<0 and b<0):\n",
    "        return True\n",
    "    \n",
    "    return False\n",
    "    "
   ]
  },
  {
   "cell_type": "markdown",
   "id": "fd32e1ac",
   "metadata": {},
   "source": [
    "###### Q2 .You are given a number n. The number n can be negative or positive. If n\n",
    "is negative, print numbers from n to 0 by adding 1 to n in the neg function. If\n",
    "positive, print numbers from n-1 to 0 by subtracting 1 from n in\n",
    "the pos function.\n",
    "Note:- You don&#39;t have to return anything, you just have to print the array.\n",
    "Example 1:\n",
    "Input:\n",
    "n = 0\n",
    "Output:\n",
    "already Zero\n",
    "Example 2:\n",
    "Input:\n",
    "n = 4\n",
    "Output:\n",
    "3 2 1 0\n",
    "Example 3:\n",
    "Input:\n",
    "n = -3\n",
    "Output:\n",
    "-3 -2 -1 0\n",
    "Your Task:\n",
    "This is a function problem. You don&#39;t need to take input of test cases. Just\n",
    "complete the functions pos() and neg()."
   ]
  },
  {
   "cell_type": "code",
   "execution_count": 6,
   "id": "a702c52d",
   "metadata": {},
   "outputs": [
    {
     "name": "stdout",
     "output_type": "stream",
     "text": [
      "4 3 2 1 0 "
     ]
    }
   ],
   "source": [
    "def neg(n):\n",
    "    while n<=0:\n",
    "        print(n,end=\" \")\n",
    "\n",
    "        n+=1\n",
    "        \n",
    "\n",
    "def pos(n):\n",
    "    while n>=0:\n",
    "        print(n,end=\" \")\n",
    "        n-=1\n",
    "    \n",
    "            \n",
    "def main(n):\n",
    "    if n==0:\n",
    "        print(\"already zero\")\n",
    "    if n>0:\n",
    "        pos(n)\n",
    "    else:\n",
    "        neg(n)\n",
    "        \n",
    "main(4)"
   ]
  },
  {
   "cell_type": "markdown",
   "id": "e3132378",
   "metadata": {},
   "source": [
    "###### \n",
    "1. User will input (3ages).Find the oldest one"
   ]
  },
  {
   "cell_type": "code",
   "execution_count": 3,
   "id": "8924c93b",
   "metadata": {},
   "outputs": [
    {
     "name": "stdout",
     "output_type": "stream",
     "text": [
      "Enter age: 12\n",
      "Enter age: 22\n",
      "Enter age: 10\n"
     ]
    },
    {
     "data": {
      "text/plain": [
       "22"
      ]
     },
     "execution_count": 3,
     "metadata": {},
     "output_type": "execute_result"
    }
   ],
   "source": [
    "def find_age():\n",
    "    list1=[]\n",
    "    for i in range(3):\n",
    "        age=int(input(\"Enter age: \"))\n",
    "        list1.append(age)\n",
    "        \n",
    "    list1.sort()\n",
    "    return list1[-1]\n",
    "        \n",
    "find_age()"
   ]
  },
  {
   "cell_type": "markdown",
   "id": "3260d104",
   "metadata": {},
   "source": [
    "######\n",
    "2. Write a program that will convert celsius value to fahrenheit"
   ]
  },
  {
   "cell_type": "code",
   "execution_count": 6,
   "id": "14e4d5da",
   "metadata": {},
   "outputs": [
    {
     "name": "stdout",
     "output_type": "stream",
     "text": [
      "Enter temprature: 45\n",
      "Enter your choice F or C: f\n",
      "113.0 F\n"
     ]
    }
   ],
   "source": [
    "def convert():\n",
    "    temp=float(input(\"Enter temprature: \"))\n",
    "    choice=input(\"Enter your choice F or C: \").upper()\n",
    "    \n",
    "    cel_to_far=(temp*(9/5))+32\n",
    "    far_to_cel=(temp-32)*(9/5)\n",
    "    \n",
    "    result=cel_to_far if choice==\"F\" else far_to_cel\n",
    "    unit=\"F\" if choice==\"F\" else \"C\"\n",
    "    \n",
    "    return print(f\"{result} {unit}\")\n",
    "    \n",
    "convert()"
   ]
  },
  {
   "cell_type": "markdown",
   "id": "9ff7f8a4",
   "metadata": {},
   "source": [
    "######\n",
    "3. User will input (2numbers).Write a program to swap the numbers"
   ]
  },
  {
   "cell_type": "code",
   "execution_count": 8,
   "id": "2659a741",
   "metadata": {},
   "outputs": [
    {
     "name": "stdout",
     "output_type": "stream",
     "text": [
      "Enter a= 12\n",
      "Enter b= 89\n",
      "a is 89 and b is 12\n"
     ]
    }
   ],
   "source": [
    "def swap():\n",
    "    a=int(input(\"Enter a= \"))\n",
    "    b=int(input(\"Enter b= \"))\n",
    "    \n",
    "    a,b=b,a\n",
    "    print(f\"a is {a} and b is {b}\")\n",
    "    \n",
    "swap()\n",
    "    "
   ]
  },
  {
   "cell_type": "markdown",
   "id": "038d50e2",
   "metadata": {},
   "source": [
    "######\n",
    "4. Write a program that will give you the sum of 3 digits\n"
   ]
  },
  {
   "cell_type": "code",
   "execution_count": 2,
   "id": "68ca4f3b",
   "metadata": {},
   "outputs": [
    {
     "name": "stdout",
     "output_type": "stream",
     "text": [
      "Enter the no.= 12\n",
      "Enter the no.= 23\n",
      "Enter the no.= 34\n",
      "sum is 69\n"
     ]
    }
   ],
   "source": [
    "def Sum():\n",
    "    \n",
    "    T=0\n",
    "    for i in range(3):\n",
    "        a=int(input(\"Enter the no.= \"))\n",
    "        T=T+a\n",
    "    print(f\"sum is {T}\")\n",
    "    \n",
    "Sum()"
   ]
  },
  {
   "cell_type": "markdown",
   "id": "304bdfa6",
   "metadata": {},
   "source": [
    "#####\n",
    "5. Write a program that will reverse a four digit number.Also it checks\n",
    "whether the reverse is true."
   ]
  },
  {
   "cell_type": "code",
   "execution_count": 5,
   "id": "f12e3dbd",
   "metadata": {},
   "outputs": [
    {
     "name": "stdout",
     "output_type": "stream",
     "text": [
      "Enter a 4 digit number: 1111\n",
      "reverse is  true / palindrom\n"
     ]
    }
   ],
   "source": [
    "def reverse():\n",
    "    n=int(input(\"Enter a 4 digit number: \"))\n",
    "    temp=n\n",
    "    rev=0\n",
    "    if 999<n<9999:\n",
    "        \n",
    "        while n>0:\n",
    "            d=n%10\n",
    "            rev=rev*10+d\n",
    "            n=n//10\n",
    "        if rev==temp:\n",
    "            print(\"reverse is  true / palindrom\")\n",
    "        else:\n",
    "            print(\"reverse is not true / not palindrom\")\n",
    "            \n",
    "    else:\n",
    "        print(\"Invalid input\")\n",
    "            \n",
    "        \n",
    "reverse()"
   ]
  },
  {
   "cell_type": "markdown",
   "id": "5d5f72ca",
   "metadata": {},
   "source": [
    "##### \n",
    "6. Write a program that will tell whether the number entered by the user is\n",
    "odd or even."
   ]
  },
  {
   "cell_type": "code",
   "execution_count": 6,
   "id": "a08238e7",
   "metadata": {},
   "outputs": [
    {
     "name": "stdout",
     "output_type": "stream",
     "text": [
      "Enter a number: 34\n",
      "entered number is even\n"
     ]
    }
   ],
   "source": [
    "def evn_or_od():\n",
    "    n=int(input(\"Enter a number: \"))\n",
    "    if n%2==0:\n",
    "        print(\"entered number is even\")\n",
    "    else:\n",
    "        print(\"entered element is odd\")\n",
    "evn_or_od()"
   ]
  },
  {
   "cell_type": "markdown",
   "id": "f237ce13",
   "metadata": {},
   "source": [
    "######\n",
    "7. Write a program that will tell whether the given year is a leap year or\n",
    "not."
   ]
  },
  {
   "cell_type": "code",
   "execution_count": 1,
   "id": "a4af512f",
   "metadata": {},
   "outputs": [
    {
     "name": "stdout",
     "output_type": "stream",
     "text": [
      "Enter the year here: 2024\n"
     ]
    },
    {
     "data": {
      "text/plain": [
       "'Leap year'"
      ]
     },
     "execution_count": 1,
     "metadata": {},
     "output_type": "execute_result"
    }
   ],
   "source": [
    "def leap_year():\n",
    "    year=int(input(\"Enter the year here: \"))\n",
    "    \n",
    "    if(((year%4==0) and (year%100!=0)) or (year%400==0)):\n",
    "        return \"Leap year\"\n",
    "    else:\n",
    "        return \"Not leap year\"\n",
    "    \n",
    "leap_year()\n",
    "    \n",
    "  \n",
    "        "
   ]
  },
  {
   "cell_type": "markdown",
   "id": "45f30c8e",
   "metadata": {},
   "source": [
    "######\n",
    "8. Write a program to find the euclidean distance between two\n",
    "coordinates."
   ]
  },
  {
   "cell_type": "code",
   "execution_count": 6,
   "id": "e5bb55f6",
   "metadata": {},
   "outputs": [
    {
     "name": "stdout",
     "output_type": "stream",
     "text": [
      "Enter co-ordinates x1 and y1 23,56\n",
      "Enter co-ordinates x2 and y2 45,89\n"
     ]
    },
    {
     "data": {
      "text/plain": [
       "39.66106403010388"
      ]
     },
     "execution_count": 6,
     "metadata": {},
     "output_type": "execute_result"
    }
   ],
   "source": [
    "import math\n",
    "def find_euclidian_distance():\n",
    "    x1,y1=map(float,input(\"Enter co-ordinates x1 and y1 \").split(\",\"))\n",
    "    x2,y2=map(float,input(\"Enter co-ordinates x2 and y2 \").split(\",\"))\n",
    "                    \n",
    "    result=math.sqrt(((x2-x1)**2)+((y2-y1)**2))\n",
    "              \n",
    "    return result\n",
    "find_euclidian_distance()"
   ]
  },
  {
   "cell_type": "markdown",
   "id": "69e5eb36",
   "metadata": {},
   "source": [
    "######\n",
    "9. Write a program that take a user inputr of three angles and will find out\n",
    "whether it can form a triangle or not."
   ]
  },
  {
   "cell_type": "code",
   "execution_count": 1,
   "id": "fa0d37d9",
   "metadata": {},
   "outputs": [
    {
     "name": "stdout",
     "output_type": "stream",
     "text": [
      "Enter 1st angle: 65\n",
      "Enter 2nd angle: 29\n",
      "Enter 3rd angle: 86\n",
      "It can form a triangle.\n"
     ]
    }
   ],
   "source": [
    "import math\n",
    "def check_triangle():\n",
    "    first=math.degrees(int(input(\"Enter 1st angle: \")))\n",
    "    second=math.degrees(int(input(\"Enter 2nd angle: \")))\n",
    "    third=math.degrees(int(input(\"Enter 3rd angle: \")))\n",
    "    \n",
    "    if (first+second+third)==math.degrees(180):\n",
    "        print(\"It can form a triangle.\")\n",
    "    else:\n",
    "        print(\"It can't form a triangle.\")\n",
    "\n",
    "check_triangle()\n",
    "              \n",
    "                "
   ]
  },
  {
   "cell_type": "markdown",
   "id": "23212421",
   "metadata": {},
   "source": [
    "######\n",
    "10. Write a program that will take user input of cost price and selling price\n",
    "and determines whether its a loss or a profit"
   ]
  },
  {
   "cell_type": "code",
   "execution_count": 3,
   "id": "458a0c74",
   "metadata": {},
   "outputs": [
    {
     "name": "stdout",
     "output_type": "stream",
     "text": [
      "Enter  the cost price: 300\n",
      "Enter the selling price: 250\n",
      "Loss 50\n"
     ]
    }
   ],
   "source": [
    "def check():\n",
    "    cost=int(input(\"Enter  the cost price: \"))\n",
    "    sell=int(input(\"Enter the selling price: \"))\n",
    "    if cost>sell:\n",
    "        print(f\"Loss {cost-sell}\")\n",
    "    else:\n",
    "        print(f\"Profit {cost-sell}\")\n",
    "check()"
   ]
  },
  {
   "cell_type": "markdown",
   "id": "62ed0471",
   "metadata": {},
   "source": [
    "######\n",
    "11. Write a program to find the simple interest when the value of\n",
    "principle,rate of interest and time period is given."
   ]
  },
  {
   "cell_type": "code",
   "execution_count": 4,
   "id": "63e1a672",
   "metadata": {},
   "outputs": [
    {
     "data": {
      "text/plain": [
       "80.0"
      ]
     },
     "execution_count": 4,
     "metadata": {},
     "output_type": "execute_result"
    }
   ],
   "source": [
    "def simple_interest(p,t,r):\n",
    "    SI=(p*t*r)/100\n",
    "    return SI\n",
    "simple_interest(1000,1,8)\n",
    "    "
   ]
  },
  {
   "cell_type": "markdown",
   "id": "2683dc82",
   "metadata": {},
   "source": [
    "######\n",
    "12. Write a program to find the volume of the cylinder. Also find the cost\n",
    "when ,when the cost of 1litre milk is 40Rs."
   ]
  },
  {
   "cell_type": "code",
   "execution_count": 5,
   "id": "6c817caf",
   "metadata": {},
   "outputs": [
    {
     "name": "stdout",
     "output_type": "stream",
     "text": [
      "Enter the radius of the cylinder (in cm): 20\n",
      "Enter the height of the cylinder (in cm): 80\n"
     ]
    },
    {
     "data": {
      "text/plain": [
       "4021.2385965949356"
      ]
     },
     "execution_count": 5,
     "metadata": {},
     "output_type": "execute_result"
    }
   ],
   "source": [
    "import math\n",
    "def v_cylinder():\n",
    "    r=int(input(\"Enter the radius of the cylinder (in cm): \"))\n",
    "    h=int(input(\"Enter the height of the cylinder (in cm): \"))\n",
    "    volume=math.pi*r*r*h\n",
    "    cost=(volume/1000)*40\n",
    "    return cost\n",
    "v_cylinder()"
   ]
  },
  {
   "cell_type": "markdown",
   "id": "ecd1fa1e",
   "metadata": {},
   "source": [
    "#####\n",
    "13. Write  a program that will tell whether the given number is divisible by 3\n",
    "&amp; 6."
   ]
  },
  {
   "cell_type": "code",
   "execution_count": 8,
   "id": "76e2a750",
   "metadata": {},
   "outputs": [
    {
     "name": "stdout",
     "output_type": "stream",
     "text": [
      "Enter a number: 18\n",
      "The given number is divisible by 3 and 6\n"
     ]
    }
   ],
   "source": [
    "def div():\n",
    "    n=int(input(\"Enter a number: \"))\n",
    "    if n%3==0 and n%6==0:\n",
    "        print(\"The given number is divisible by 3 and 6\")\n",
    "    else:\n",
    "        print(\"The given number is not divisible by 3 and 6\")\n",
    "        \n",
    "div()"
   ]
  },
  {
   "cell_type": "markdown",
   "id": "ed00bc72",
   "metadata": {},
   "source": [
    "## More Basic"
   ]
  },
  {
   "cell_type": "markdown",
   "id": "4fb21c36",
   "metadata": {},
   "source": [
    "##### \n",
    "1. Write a program that will tell the number of dogs and chicken are there\n",
    "when the user will provide the value of total heads and legs."
   ]
  },
  {
   "cell_type": "code",
   "execution_count": 10,
   "id": "9f95aab4",
   "metadata": {},
   "outputs": [
    {
     "name": "stdout",
     "output_type": "stream",
     "text": [
      "Enter  total heads: 6\n",
      "Enter total legs: 16\n",
      "Invalid inputs\n",
      "Invalid inputs\n",
      "There are 2 dogs and 4 chickens\n"
     ]
    }
   ],
   "source": [
    "def dog_chicken():\n",
    "    total_heads=int(input(\"Enter  total heads: \"))\n",
    "    total_legs=int(input(\"Enter total legs: \"))\n",
    "    \n",
    "    for dogs in range(total_heads+1):\n",
    "        chickens=total_heads-dogs\n",
    "        if (2*chickens)+(4*dogs)==total_legs:\n",
    "            print(f\"There are {dogs} dogs and {chickens} chickens\")\n",
    "            return\n",
    "        print(\"Invalid inputs\")\n",
    "dog_chicken()\n",
    "            \n",
    "            "
   ]
  },
  {
   "cell_type": "markdown",
   "id": "0d6999a3",
   "metadata": {},
   "source": [
    "######\n",
    "3. Write a program to find the sum of first n numbers, where n will be\n",
    "provided by the user. Eg if the user provides n=10 the output should be 55.\n"
   ]
  },
  {
   "cell_type": "code",
   "execution_count": 15,
   "id": "258692ac",
   "metadata": {},
   "outputs": [
    {
     "name": "stdout",
     "output_type": "stream",
     "text": [
      "Enter the number: 11\n"
     ]
    },
    {
     "data": {
      "text/plain": [
       "66"
      ]
     },
     "execution_count": 15,
     "metadata": {},
     "output_type": "execute_result"
    }
   ],
   "source": [
    "# def sum_first_n():\n",
    "#     n=int(input(\"Enter the number: \"))\n",
    "#     T=0\n",
    "#     for i in range(n+1):\n",
    "#         T=T+i\n",
    "#     return T\n",
    "# sum_first_n()\n",
    "        \n",
    "    \n",
    "# or using arithmatic progration(AP)\n",
    "\n",
    "def sum_first_n():\n",
    "    n=int(input(\"Enter the number: \"))\n",
    "    T=(n*(n+1))//2\n",
    "    return T\n",
    "sum_first_n()"
   ]
  },
  {
   "cell_type": "markdown",
   "id": "e0491a42",
   "metadata": {},
   "source": [
    "######\n",
    "4. Write a program that can multiply 2 numbers provided by the user\n",
    "without using the * operator"
   ]
  },
  {
   "cell_type": "code",
   "execution_count": 1,
   "id": "e2fc400a",
   "metadata": {},
   "outputs": [
    {
     "data": {
      "text/plain": [
       "-14"
      ]
     },
     "execution_count": 1,
     "metadata": {},
     "output_type": "execute_result"
    }
   ],
   "source": [
    "def mul_without(x,y):\n",
    "    if x<0 and y<0:\n",
    "        x,y=-x,-y\n",
    "    elif x<0 or y<0:\n",
    "        negative=True\n",
    "        x,y=abs(x),abs(y)\n",
    "        \n",
    "    result=0\n",
    "    for i in range(y):\n",
    "        result+=x\n",
    "        \n",
    "    if negative:\n",
    "        result=-result\n",
    "    return result\n",
    "\n",
    "mul_without(2,-7)\n",
    "    "
   ]
  },
  {
   "cell_type": "markdown",
   "id": "becbfa18",
   "metadata": {},
   "source": [
    "######\n",
    "5. Write a program that can find the factorial of a given number provided\n",
    "by the user."
   ]
  },
  {
   "cell_type": "code",
   "execution_count": 4,
   "id": "22f881d1",
   "metadata": {},
   "outputs": [
    {
     "data": {
      "text/plain": [
       "24"
      ]
     },
     "execution_count": 4,
     "metadata": {},
     "output_type": "execute_result"
    }
   ],
   "source": [
    "def factorial(n):\n",
    "    fact=1\n",
    "    for i in range(1,n+1):\n",
    "        fact=fact*i\n",
    "    return fact\n",
    "        \n",
    "factorial(4)"
   ]
  },
  {
   "cell_type": "markdown",
   "id": "962fbcda",
   "metadata": {},
   "source": [
    "######\n",
    "6. Write a program to print the first 25 odd numbers"
   ]
  },
  {
   "cell_type": "code",
   "execution_count": 6,
   "id": "d1af09f9",
   "metadata": {},
   "outputs": [
    {
     "name": "stdout",
     "output_type": "stream",
     "text": [
      "3\n",
      "5\n",
      "7\n",
      "9\n",
      "11\n",
      "13\n",
      "15\n",
      "17\n",
      "19\n",
      "21\n",
      "23\n",
      "25\n",
      "27\n",
      "29\n",
      "31\n",
      "33\n",
      "35\n",
      "37\n",
      "39\n",
      "41\n",
      "43\n",
      "45\n",
      "47\n",
      "49\n",
      "51\n"
     ]
    }
   ],
   "source": [
    "def odd():\n",
    "    count=0\n",
    "    num=1\n",
    "    while count<25:\n",
    "        num+=2\n",
    "        count+=1\n",
    "        print(num)\n",
    "        \n",
    "odd()\n",
    "        "
   ]
  },
  {
   "cell_type": "markdown",
   "id": "36cc29da",
   "metadata": {},
   "source": [
    "######\n",
    "7. Write a program to print whether a given number is prime number or\n",
    "not\n"
   ]
  },
  {
   "cell_type": "code",
   "execution_count": 10,
   "id": "f19fe1e1",
   "metadata": {},
   "outputs": [
    {
     "name": "stdout",
     "output_type": "stream",
     "text": [
      "Prime\n"
     ]
    }
   ],
   "source": [
    "def prime(n):\n",
    "    count=0\n",
    "    for i in range(1,n+1):\n",
    "        if n%i==0:\n",
    "            count+=1\n",
    "    if count==2:\n",
    "        print(\"Prime\")\n",
    "    else:\n",
    "        print(\"not prime\")\n",
    "prime(7)\n",
    "    "
   ]
  },
  {
   "cell_type": "markdown",
   "id": "de73b77e",
   "metadata": {},
   "source": [
    "######\n",
    "8. Print all the armstrong numbers in the range of 100 to 1000"
   ]
  },
  {
   "cell_type": "code",
   "execution_count": 14,
   "id": "546ed49d",
   "metadata": {},
   "outputs": [
    {
     "name": "stdout",
     "output_type": "stream",
     "text": [
      "153\n",
      "370\n",
      "371\n",
      "407\n"
     ]
    }
   ],
   "source": [
    "def armstrong():\n",
    "    for num in range(100,1001):\n",
    "        \n",
    "        l=len(str(num))\n",
    "        temp=num\n",
    "        s=0\n",
    "        \n",
    "        while temp>0:\n",
    "            d=temp%10\n",
    "            s=s+(d**l)\n",
    "            temp=temp//10\n",
    "            \n",
    "        if s==num:\n",
    "            print(num)\n",
    "armstrong()\n",
    "        "
   ]
  },
  {
   "cell_type": "markdown",
   "id": "e775bc9b",
   "metadata": {},
   "source": [
    "######\n",
    "9. The current population of a town is 10000. The population of the town is\n",
    "increasing at the rate of 10% per year. You have to write a program to\n",
    "find out the population at the end of each of the last 10 years. For eg\n",
    "current population is 10000 so the output should be like this:\n",
    "10th year - 10000\n",
    "9th year - 9000\n",
    "8th year - 8100 and so on"
   ]
  },
  {
   "cell_type": "code",
   "execution_count": 18,
   "id": "9c172bbd",
   "metadata": {},
   "outputs": [
    {
     "name": "stdout",
     "output_type": "stream",
     "text": [
      "10th - 10000 population\n",
      "9th - 9090.0 population\n",
      "8th - 8263.0 population\n",
      "7th - 7511.0 population\n",
      "6th - 6828.0 population\n",
      "5th - 6207.0 population\n",
      "4th - 5642.0 population\n",
      "3th - 5129.0 population\n",
      "2th - 4662.0 population\n",
      "1th - 4238.0 population\n"
     ]
    }
   ],
   "source": [
    "def population():\n",
    "    current_population=10000\n",
    "    rate=10\n",
    "    \n",
    "    for year in range(10,0,-1):\n",
    "        print(f\"{year}th - {current_population} population\")\n",
    "        current_population=current_population//(1+(rate/100))\n",
    "        \n",
    "population()"
   ]
  },
  {
   "cell_type": "markdown",
   "id": "d0f6d0dc",
   "metadata": {},
   "source": [
    "######\n",
    "User will provide 2 numbers you have to find the HCF of those 2\n",
    "numbers"
   ]
  },
  {
   "cell_type": "code",
   "execution_count": 1,
   "id": "3f19c2b5",
   "metadata": {},
   "outputs": [
    {
     "data": {
      "text/plain": [
       "2"
      ]
     },
     "execution_count": 1,
     "metadata": {},
     "output_type": "execute_result"
    }
   ],
   "source": [
    "def find_hcf(a,b):\n",
    "    if a>b:\n",
    "        a,b=b,a\n",
    "    while b!=0:\n",
    "        r=a%b\n",
    "        a=b\n",
    "        b=r\n",
    "    return a\n",
    "find_hcf(8,2)"
   ]
  },
  {
   "cell_type": "markdown",
   "id": "cef2e51d",
   "metadata": {},
   "source": [
    "#####\n",
    "1. User will provide 2 numbers you have to find the by LCM of those 2\n",
    "numbers"
   ]
  },
  {
   "cell_type": "code",
   "execution_count": 3,
   "id": "6111128e",
   "metadata": {},
   "outputs": [
    {
     "data": {
      "text/plain": [
       "9"
      ]
     },
     "execution_count": 3,
     "metadata": {},
     "output_type": "execute_result"
    }
   ],
   "source": [
    "def find_hcf(a, b):\n",
    "    \n",
    "    if a > b:\n",
    "        a, b = b, a\n",
    "    while b != 0:\n",
    "        r = a % b\n",
    "        a = b\n",
    "        b = r\n",
    "    return a\n",
    "\n",
    "def find_lcm(a, b):\n",
    "    hcf = find_hcf(a, b)\n",
    "    return abs(a * b) // hcf \n",
    "\n",
    "find_lcm(9,3)"
   ]
  },
  {
   "cell_type": "markdown",
   "id": "d4708dcc",
   "metadata": {},
   "source": [
    "######\n",
    "Print first 25 prime numbers"
   ]
  },
  {
   "cell_type": "code",
   "execution_count": 6,
   "id": "d048c0e6",
   "metadata": {},
   "outputs": [
    {
     "name": "stdout",
     "output_type": "stream",
     "text": [
      "2 3 5 7 11 13 17 19 23 29 31 37 41 43 47 53 59 61 67 71 73 79 83 89 97 "
     ]
    }
   ],
   "source": [
    "count = 0\n",
    "i = 2 \n",
    "\n",
    "while count < 25:  \n",
    "    c = 0\n",
    "    for j in range(1, i + 1):\n",
    "        if i % j == 0:\n",
    "            c += 1\n",
    "    if c == 2:\n",
    "        print(i, end=\" \")\n",
    "        count += 1\n",
    "    i += 1\n",
    "\n",
    "            \n"
   ]
  },
  {
   "cell_type": "markdown",
   "id": "466e3298",
   "metadata": {},
   "source": [
    "######\n",
    "Print the first 20 numbers of a Fibonacci series"
   ]
  },
  {
   "cell_type": "code",
   "execution_count": 2,
   "id": "711bee27",
   "metadata": {},
   "outputs": [
    {
     "name": "stdout",
     "output_type": "stream",
     "text": [
      "0 1 1 2 3 5 8 13 21 34 55 89 144 233 377 610 987 1597 2584 4181 "
     ]
    }
   ],
   "source": [
    "count=0\n",
    "a,b=0,1\n",
    "\n",
    "while count<20:\n",
    "    print(a,end=\" \")\n",
    "    a,b=b,a+b\n",
    "    count+=1\n",
    "    "
   ]
  },
  {
   "cell_type": "markdown",
   "id": "3688befa",
   "metadata": {},
   "source": [
    "######\n",
    "Write a program to find the compound interest"
   ]
  },
  {
   "cell_type": "code",
   "execution_count": 4,
   "id": "ced37e02",
   "metadata": {},
   "outputs": [],
   "source": [
    "def calculate_compound_interest(principal,rate,time):\n",
    "\n",
    "    amount=principal*(1+rate/100)**time\n",
    "    compound_interest=amount-principal\n",
    "    return compound_interest,amount"
   ]
  },
  {
   "cell_type": "markdown",
   "id": "35a9e0fe",
   "metadata": {},
   "source": [
    "######\n",
    "Take a number from the user and find the number of digits in it."
   ]
  },
  {
   "cell_type": "code",
   "execution_count": 5,
   "id": "867758e6",
   "metadata": {},
   "outputs": [],
   "source": [
    "def count_digits(num):\n",
    "    return len(str(num))"
   ]
  },
  {
   "cell_type": "markdown",
   "id": "af731045",
   "metadata": {},
   "source": [
    "######\n",
    "Print all factors of a given number provided by the user."
   ]
  },
  {
   "cell_type": "code",
   "execution_count": 4,
   "id": "be1160f3",
   "metadata": {},
   "outputs": [
    {
     "name": "stdout",
     "output_type": "stream",
     "text": [
      "1\n",
      "2\n"
     ]
    }
   ],
   "source": [
    "def fact(n):\n",
    "    for i in range(1, n):\n",
    "        f = 1\n",
    "        for j in range(1, i + 1):\n",
    "            f *= j \n",
    "        print(f)\n",
    "\n",
    "fact(3)\n"
   ]
  },
  {
   "cell_type": "markdown",
   "id": "f8def864",
   "metadata": {},
   "source": [
    "######\n",
    "Find the reverse of a number provided by the user(any number of digit)\n"
   ]
  },
  {
   "cell_type": "code",
   "execution_count": 5,
   "id": "58329979",
   "metadata": {},
   "outputs": [
    {
     "data": {
      "text/plain": [
       "432"
      ]
     },
     "execution_count": 5,
     "metadata": {},
     "output_type": "execute_result"
    }
   ],
   "source": [
    "def reverse_number(num):\n",
    "    reversed_num = 0\n",
    "    while num > 0:\n",
    "        digit = num % 10 \n",
    "        reversed_num = reversed_num * 10 + digit  \n",
    "        num //= 10 \n",
    "    return reversed_num\n",
    "reverse_number(234)"
   ]
  },
  {
   "cell_type": "code",
   "execution_count": null,
   "id": "b0154d66",
   "metadata": {},
   "outputs": [],
   "source": []
  }
 ],
 "metadata": {
  "kernelspec": {
   "display_name": "Python 3 (ipykernel)",
   "language": "python",
   "name": "python3"
  },
  "language_info": {
   "codemirror_mode": {
    "name": "ipython",
    "version": 3
   },
   "file_extension": ".py",
   "mimetype": "text/x-python",
   "name": "python",
   "nbconvert_exporter": "python",
   "pygments_lexer": "ipython3",
   "version": "3.11.4"
  }
 },
 "nbformat": 4,
 "nbformat_minor": 5
}
